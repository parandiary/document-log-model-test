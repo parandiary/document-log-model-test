{
 "cells": [
  {
   "cell_type": "code",
   "execution_count": null,
   "metadata": {},
   "outputs": [],
   "source": [
    "from flask import Flask, jsonify, request\n",
    "import pandas as pd\n",
    "from sklearn.ensemble import IsolationForest  # 예시용 Isolation Forest 모델 사용\n",
    "\n",
    "# Flask 애플리케이션 초기화\n",
    "app = Flask(__name__)\n",
    "\n",
    "# 간단한 이상 탐지 모델 생성 (테스트용)\n",
    "#model = IsolationForest(n_estimators=100, contamination=0.05, random_state=42)\n",
    "# 임의의 데이터로 모델 학습 (실제 서비스에서는 적절한 데이터를 사용해야 합니다)\n",
    "#model.fit([[0, 0], [1, 1], [2, 2]])\n",
    "\n",
    "# 데이터 전처리 함수 (샘플)\n",
    "def preprocess_data(df):\n",
    "    # 필요한 컬럼 선택 및 인코딩 (여기서는 단순히 넘파이 배열로 변환)\n",
    "    return df.values\n",
    "\n",
    "# 실시간 로그 데이터 처리 및 예측 엔드포인트\n",
    "@app.route('/monitor', methods=['POST'])\n",
    "def monitor():\n",
    "    try:\n",
    "        # POST 요청으로부터 JSON 데이터 수신\n",
    "        log = request.get_json()\n",
    "        if not log:\n",
    "            return jsonify({\"error\": \"No JSON data received\"}), 400\n",
    "        \n",
    "        # 데이터프레임으로 변환\n",
    "        df = pd.DataFrame([log])\n",
    "        processed_log = preprocess_data(df)  # 전처리 수행\n",
    "\n",
    "        # 모델을 사용한 이상 탐지 수행\n",
    "        anomaly_score = model.decision_function(processed_log)\n",
    "        is_anomaly = model.predict(processed_log)\n",
    "\n",
    "        # 응답 생성\n",
    "        response = {\n",
    "            \"anomaly_score\": float(anomaly_score[0]),  # JSON 직렬화 가능하도록 변환\n",
    "            \"is_anomaly\": bool(is_anomaly[0] == -1)  # -1이면 이상\n",
    "        }\n",
    "        return jsonify(response), 200\n",
    "\n",
    "    except Exception as e:\n",
    "        # 예외 처리 및 오류 응답 반환\n",
    "        return jsonify({\"error\": str(e)}), 500\n",
    "\n",
    "# 서버 실행\n",
    "if __name__ == '__main__':\n",
    "    app.run(debug=True, host='0.0.0.0', port=5000, use_reloader=False)\n"
   ]
  }
 ],
 "metadata": {
  "language_info": {
   "name": "python"
  }
 },
 "nbformat": 4,
 "nbformat_minor": 2
}
