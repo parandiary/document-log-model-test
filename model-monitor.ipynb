{
 "cells": [
  {
   "cell_type": "code",
   "execution_count": 2,
   "metadata": {},
   "outputs": [
    {
     "name": "stdout",
     "output_type": "stream",
     "text": [
      " * Serving Flask app '__main__'\n",
      " * Debug mode: on\n"
     ]
    },
    {
     "name": "stderr",
     "output_type": "stream",
     "text": [
      "WARNING: This is a development server. Do not use it in a production deployment. Use a production WSGI server instead.\n",
      " * Running on all addresses (0.0.0.0)\n",
      " * Running on http://127.0.0.1:5000\n",
      " * Running on http://192.168.1.68:5000\n",
      "Press CTRL+C to quit\n",
      "127.0.0.1 - - [18/Oct/2024 11:04:39] \"GET / HTTP/1.1\" 404 -\n",
      "127.0.0.1 - - [18/Oct/2024 11:04:39] \"GET /favicon.ico HTTP/1.1\" 404 -\n",
      "127.0.0.1 - - [18/Oct/2024 11:04:50] \"GET / HTTP/1.1\" 404 -\n",
      "192.168.1.68 - - [18/Oct/2024 11:04:56] \"GET / HTTP/1.1\" 404 -\n",
      "192.168.1.68 - - [18/Oct/2024 11:04:56] \"GET /favicon.ico HTTP/1.1\" 404 -\n",
      "192.168.1.68 - - [18/Oct/2024 11:05:29] \"GET / HTTP/1.1\" 404 -\n",
      "192.168.1.68 - - [18/Oct/2024 11:05:29] \"GET /favicon.ico HTTP/1.1\" 404 -\n",
      "192.168.1.68 - - [18/Oct/2024 11:07:12] \"GET / HTTP/1.1\" 404 -\n",
      "192.168.1.68 - - [18/Oct/2024 11:11:59] \"GET /monitor HTTP/1.1\" 405 -\n",
      "127.0.0.1 - - [18/Oct/2024 11:21:12] \"POST /monitor HTTP/1.1\" 500 -\n",
      "Traceback (most recent call last):\n",
      "  File \"d:\\Python\\anaconda3\\envs\\penv312\\Lib\\site-packages\\flask\\app.py\", line 1498, in __call__\n",
      "    return self.wsgi_app(environ, start_response)\n",
      "           ^^^^^^^^^^^^^^^^^^^^^^^^^^^^^^^^^^^^^^\n",
      "  File \"d:\\Python\\anaconda3\\envs\\penv312\\Lib\\site-packages\\flask\\app.py\", line 1476, in wsgi_app\n",
      "    response = self.handle_exception(e)\n",
      "               ^^^^^^^^^^^^^^^^^^^^^^^^\n",
      "  File \"d:\\Python\\anaconda3\\envs\\penv312\\Lib\\site-packages\\flask\\app.py\", line 1473, in wsgi_app\n",
      "    response = self.full_dispatch_request()\n",
      "               ^^^^^^^^^^^^^^^^^^^^^^^^^^^^\n",
      "  File \"d:\\Python\\anaconda3\\envs\\penv312\\Lib\\site-packages\\flask\\app.py\", line 882, in full_dispatch_request\n",
      "    rv = self.handle_user_exception(e)\n",
      "         ^^^^^^^^^^^^^^^^^^^^^^^^^^^^^\n",
      "  File \"d:\\Python\\anaconda3\\envs\\penv312\\Lib\\site-packages\\flask\\app.py\", line 880, in full_dispatch_request\n",
      "    rv = self.dispatch_request()\n",
      "         ^^^^^^^^^^^^^^^^^^^^^^^\n",
      "  File \"d:\\Python\\anaconda3\\envs\\penv312\\Lib\\site-packages\\flask\\app.py\", line 865, in dispatch_request\n",
      "    return self.ensure_sync(self.view_functions[rule.endpoint])(**view_args)  # type: ignore[no-any-return]\n",
      "           ^^^^^^^^^^^^^^^^^^^^^^^^^^^^^^^^^^^^^^^^^^^^^^^^^^^^^^^^^^^^^^^^^^^^^^^^^^^^^^^^^^^^^^^^^^^^^^^^\n",
      "  File \"C:\\Users\\user\\AppData\\Local\\Temp\\ipykernel_30868\\2786609537.py\", line 12, in monitor\n",
      "    processed_log = preprocess_data(df)\n",
      "                    ^^^^^^^^^^^^^^^^^^^\n",
      "NameError: name 'preprocess_data' is not defined\n"
     ]
    }
   ],
   "source": [
    "from flask import Flask, jsonify, request\n",
    "import pandas as pd\n",
    "\n",
    "\n",
    "app = Flask(__name__)\n",
    "\n",
    "# 실시간 로그 데이터 처리 및 예측\n",
    "@app.route('/monitor', methods=['POST'])\n",
    "def monitor():\n",
    "    log = request.json  # 새 로그 데이터 수신\n",
    "    df = pd.DataFrame([log])\n",
    "    processed_log = preprocess_data(df)\n",
    "\n",
    "    # 이상 탐지 수행\n",
    "    anomaly_score = model.decision_function(processed_log)\n",
    "    is_anomaly = model.predict(processed_log)\n",
    "\n",
    "    response = {\n",
    "        \"anomaly_score\": anomaly_score[0],\n",
    "        \"is_anomaly\": bool(is_anomaly[0] == -1)  # -1이면 이상\n",
    "    }\n",
    "    return jsonify(response)\n",
    "\n",
    "if __name__ == '__main__':\n",
    "    app.run(debug=True, host='0.0.0.0', port=5000, use_reloader=False)\n",
    "\n"
   ]
  },
  {
   "cell_type": "code",
   "execution_count": null,
   "metadata": {},
   "outputs": [],
   "source": []
  },
  {
   "cell_type": "code",
   "execution_count": null,
   "metadata": {},
   "outputs": [],
   "source": []
  },
  {
   "cell_type": "code",
   "execution_count": null,
   "metadata": {},
   "outputs": [],
   "source": []
  }
 ],
 "metadata": {
  "kernelspec": {
   "display_name": "penv312",
   "language": "python",
   "name": "python3"
  },
  "language_info": {
   "codemirror_mode": {
    "name": "ipython",
    "version": 3
   },
   "file_extension": ".py",
   "mimetype": "text/x-python",
   "name": "python",
   "nbconvert_exporter": "python",
   "pygments_lexer": "ipython3",
   "version": "3.12.7"
  }
 },
 "nbformat": 4,
 "nbformat_minor": 2
}
